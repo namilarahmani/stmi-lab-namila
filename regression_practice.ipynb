{
 "cells": [
  {
   "cell_type": "code",
   "execution_count": 26,
   "id": "1f9587b2",
   "metadata": {},
   "outputs": [],
   "source": [
    "import pandas as pd \n",
    "import numpy as np \n",
    "import matplotlib.pyplot as plt\n",
    "import matplotlib.dates as mdates\n",
    "from sklearn.linear_model import LinearRegression"
   ]
  },
  {
   "cell_type": "code",
   "execution_count": 27,
   "id": "fae001b0",
   "metadata": {},
   "outputs": [],
   "source": [
    "dexcom_df = pd.read_csv(\"C:\\\\Users\\\\namil\\\\Downloads\\\\CaM01-001_CGM_Dexcom.csv\")\n",
    "libre_df = pd.read_csv(\"C:\\\\Users\\\\namil\\\\Downloads\\\\CaM01-001_CGM_Libre.csv\")\n",
    "dexcom_df['Date_Time'] = pd.to_datetime(dexcom_df['Date_Time'])\n",
    "libre_df['Date_Time'] = pd.to_datetime(libre_df['Date_Time'])"
   ]
  },
  {
   "cell_type": "code",
   "execution_count": 28,
   "id": "dc2c4783",
   "metadata": {},
   "outputs": [],
   "source": [
    "start_date = '2021-09-18'\n",
    "date_array = []\n",
    "days = 14\n",
    "for i in range(days):\n",
    "    date_array.append(start_date[:-2] + str(int(start_date[-2:])+i))\n",
    "j = 5\n",
    "subset_df = dexcom_df[dexcom_df['Date_Time'].dt.date == pd.to_datetime(date_array[j]).date()]\n",
    "lib_df = libre_df[libre_df['Date_Time'].dt.date == pd.to_datetime(date_array[j]).date()]"
   ]
  },
  {
   "cell_type": "code",
   "execution_count": 29,
   "id": "8960ce77",
   "metadata": {},
   "outputs": [],
   "source": [
    "bg_array = subset_df['BG'].to_numpy()\n",
    "time_array = subset_df['mins'].to_numpy()\n",
    "\n",
    "bg_array2 = lib_df['BG'].to_numpy()\n",
    "time_array2 = lib_df['Date_Time']"
   ]
  },
  {
   "cell_type": "code",
   "execution_count": 30,
   "id": "dc0d5039",
   "metadata": {},
   "outputs": [
    {
     "name": "stdout",
     "output_type": "stream",
     "text": [
      "288\n",
      "288\n"
     ]
    }
   ],
   "source": [
    "print(len(bg_array))\n",
    "print(len(time_array))"
   ]
  },
  {
   "cell_type": "code",
   "execution_count": 31,
   "id": "15dee432",
   "metadata": {},
   "outputs": [
    {
     "name": "stdout",
     "output_type": "stream",
     "text": [
      "coefficient of determination between time and BG: 0.0031340637019356965\n"
     ]
    }
   ],
   "source": [
    "arr2 = time_array.reshape(-1, 1)\n",
    "model = LinearRegression().fit(arr2, bg_array)\n",
    "r_sq = model.score(arr2, bg_array)\n",
    "print(f\"coefficient of determination between time and BG: {r_sq}\")"
   ]
  },
  {
   "cell_type": "code",
   "execution_count": 32,
   "id": "b9827a10",
   "metadata": {},
   "outputs": [],
   "source": [
    "#practice regression w cals and mets bc i know those have simple correlation\n",
    "fitbit_df = pd.read_csv(\"C:\\\\Users\\\\namil\\\\Downloads\\\\CaM01-001_Fitbit.csv\")\n",
    "fitbit_df['Date_Time'] = pd.to_datetime(fitbit_df['Date_Time'])\n",
    "daysubset = fitbit_df[fitbit_df['Date_Time'].dt.date == pd.to_datetime(date_array[j]).date()]"
   ]
  },
  {
   "cell_type": "code",
   "execution_count": 33,
   "id": "39dd5cf0",
   "metadata": {},
   "outputs": [],
   "source": [
    "cals_array = daysubset['Calories'].to_numpy()\n",
    "mets_array = daysubset['METs'].to_numpy()"
   ]
  },
  {
   "cell_type": "code",
   "execution_count": 34,
   "id": "969b89d6",
   "metadata": {},
   "outputs": [
    {
     "name": "stdout",
     "output_type": "stream",
     "text": [
      "coefficient of determination between cals and mets: 0.9999999999999979\n",
      "intercept: -3.371139030150516e-07\n",
      "slope: 9.538344198721072\n"
     ]
    }
   ],
   "source": [
    "arr3 = cals_array.reshape(-1,1)\n",
    "model = LinearRegression().fit(arr3, mets_array)\n",
    "r_sq = model.score(arr3, mets_array)\n",
    "print(f\"coefficient of determination between cals and mets: {r_sq}\")\n",
    "print(f\"intercept: {model.intercept_}\")\n",
    "print(f\"slope: {model.coef_[0]}\")"
   ]
  },
  {
   "cell_type": "code",
   "execution_count": 35,
   "id": "29b0341c",
   "metadata": {},
   "outputs": [],
   "source": [
    "#logistic regression\n"
   ]
  },
  {
   "cell_type": "code",
   "execution_count": null,
   "id": "ecb8e16e",
   "metadata": {},
   "outputs": [],
   "source": []
  }
 ],
 "metadata": {
  "kernelspec": {
   "display_name": "Python 3 (ipykernel)",
   "language": "python",
   "name": "python3"
  },
  "language_info": {
   "codemirror_mode": {
    "name": "ipython",
    "version": 3
   },
   "file_extension": ".py",
   "mimetype": "text/x-python",
   "name": "python",
   "nbconvert_exporter": "python",
   "pygments_lexer": "ipython3",
   "version": "3.10.9"
  }
 },
 "nbformat": 4,
 "nbformat_minor": 5
}
