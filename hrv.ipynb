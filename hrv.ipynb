{
 "cells": [
  {
   "cell_type": "code",
   "execution_count": 10,
   "id": "a6bb9fec",
   "metadata": {},
   "outputs": [],
   "source": [
    "import pandas as pd \n",
    "import numpy as np \n",
    "import matplotlib.pyplot as plt\n",
    "from sklearn.cluster import KMeans\n",
    "from sklearn.mixture import GaussianMixture"
   ]
  },
  {
   "cell_type": "code",
   "execution_count": 11,
   "id": "fc3b3a20",
   "metadata": {},
   "outputs": [],
   "source": [
    "#calculating rmmsd\n",
    "participant = str(29)\n",
    "fitbit = pd.read_csv(\"C:\\\\Users\\\\namil\\\\Downloads\\\\CaM01-0\" + participant + \"_Fitbit.csv\")\n",
    "heartrate_arr = fitbit['HeartRate']\n",
    "newarr = (heartrate_arr.dropna() / 60)**2"
   ]
  },
  {
   "cell_type": "code",
   "execution_count": 12,
   "id": "2fdef393",
   "metadata": {},
   "outputs": [
    {
     "name": "stdout",
     "output_type": "stream",
     "text": [
      "rMMSD is 1.17166368209516\n"
     ]
    }
   ],
   "source": [
    "rMMSD = np.sqrt(newarr.mean())\n",
    "print(f\"rMMSD is {rMMSD}\" )"
   ]
  },
  {
   "cell_type": "code",
   "execution_count": 13,
   "id": "45d114c8",
   "metadata": {},
   "outputs": [
    {
     "data": {
      "text/plain": [
       "array([1, 0, 0, 0, 0, 1, 1, 1, 0, 0, 0, 0, 0, 0, 1, 0, 1, 0, 0, 2, 1, 1,\n",
       "       1, 0, 0, 1, 1])"
      ]
     },
     "execution_count": 13,
     "metadata": {},
     "output_type": "execute_result"
    }
   ],
   "source": [
    "#clustering data into 3 clusters\n",
    "data = pd.read_csv(\"C:\\\\Users\\\\namil\\\\Downloads\\\\hrv.csv\")\n",
    "hrv_arr = data['HRV'].to_numpy()\n",
    "new = hrv_arr.reshape(-1,1)\n",
    "kmeans = KMeans(n_clusters=3, random_state=0, n_init = \"auto\").fit(new)\n",
    "kmeans.labels_"
   ]
  },
  {
   "cell_type": "code",
   "execution_count": 14,
   "id": "f2bed091",
   "metadata": {},
   "outputs": [
    {
     "data": {
      "text/plain": [
       "array([1, 0, 0, 0, 0, 1, 1, 0, 0, 0, 0, 0, 0, 0, 1, 0, 1, 0, 0, 2, 1, 1,\n",
       "       1, 0, 0, 1, 1], dtype=int64)"
      ]
     },
     "execution_count": 14,
     "metadata": {},
     "output_type": "execute_result"
    }
   ],
   "source": [
    "#gaussian mixture model clusters\n",
    "diabetes = data['Diabetic']\n",
    "gmm = GaussianMixture(3, \n",
    "                     covariance_type='full', \n",
    "                     random_state=0).fit(new, diabetes)\n",
    "labels = gmm.predict(new)\n",
    "labels"
   ]
  }
 ],
 "metadata": {
  "kernelspec": {
   "display_name": "Python 3 (ipykernel)",
   "language": "python",
   "name": "python3"
  },
  "language_info": {
   "codemirror_mode": {
    "name": "ipython",
    "version": 3
   },
   "file_extension": ".py",
   "mimetype": "text/x-python",
   "name": "python",
   "nbconvert_exporter": "python",
   "pygments_lexer": "ipython3",
   "version": "3.10.9"
  }
 },
 "nbformat": 4,
 "nbformat_minor": 5
}
