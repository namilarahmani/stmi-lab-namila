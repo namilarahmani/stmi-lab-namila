{
 "cells": [
  {
   "cell_type": "code",
   "execution_count": 3,
   "id": "73c5c30a",
   "metadata": {},
   "outputs": [],
   "source": [
    "import numpy as np\n",
    "import pandas as pd \n",
    "from sklearn.metrics import auc"
   ]
  },
  {
   "cell_type": "code",
   "execution_count": 4,
   "id": "9a040567",
   "metadata": {},
   "outputs": [],
   "source": [
    "datafile = pd.read_csv(\"C:\\\\Users\\\\namil\\\\Downloads\\\\CaM01-001_CGM_Libre.csv\")\n",
    "time = datafile['mins'].to_numpy()\n",
    "bg = datafile['BG'].to_numpy()"
   ]
  },
  {
   "cell_type": "code",
   "execution_count": 5,
   "id": "05f92f0c",
   "metadata": {},
   "outputs": [
    {
     "name": "stdout",
     "output_type": "stream",
     "text": [
      "145717.5\n"
     ]
    }
   ],
   "source": [
    "time = time[~np.isnan(time)]\n",
    "bg = bg[~np.isnan(bg)]\n",
    "area = auc(time, bg)\n",
    "print(area)"
   ]
  },
  {
   "cell_type": "code",
   "execution_count": 6,
   "id": "47a025ef",
   "metadata": {
    "scrolled": true
   },
   "outputs": [
    {
     "name": "stdout",
     "output_type": "stream",
     "text": [
      "2512.5\n"
     ]
    }
   ],
   "source": [
    "tuples = zip(time,bg)\n",
    "arr = np.asarray(list(tuples))\n",
    "\n",
    "#pick a time interval\n",
    "filtered = arr[arr[:,0] <= 660]\n",
    "\n",
    "#calculate iauc for that time interval\n",
    "area = auc(filtered[:,0], filtered[:,1])\n",
    "print(area)"
   ]
  },
  {
   "cell_type": "code",
   "execution_count": null,
   "id": "025fbcd1",
   "metadata": {},
   "outputs": [],
   "source": []
  }
 ],
 "metadata": {
  "kernelspec": {
   "display_name": "Python 3 (ipykernel)",
   "language": "python",
   "name": "python3"
  },
  "language_info": {
   "codemirror_mode": {
    "name": "ipython",
    "version": 3
   },
   "file_extension": ".py",
   "mimetype": "text/x-python",
   "name": "python",
   "nbconvert_exporter": "python",
   "pygments_lexer": "ipython3",
   "version": "3.10.9"
  }
 },
 "nbformat": 4,
 "nbformat_minor": 5
}
