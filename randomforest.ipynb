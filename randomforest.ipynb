{
 "cells": [
  {
   "cell_type": "code",
   "execution_count": 21,
   "id": "f8c9ee02",
   "metadata": {},
   "outputs": [],
   "source": [
    "import pandas as pd \n",
    "import numpy as np\n",
    "from sklearn.model_selection import train_test_split\n",
    "from sklearn.metrics import mean_absolute_percentage_error as MAPE\n",
    "from sklearn.metrics import mean_squared_error as MSE\n",
    "from sklearn.ensemble import RandomForestRegressor"
   ]
  },
  {
   "cell_type": "code",
   "execution_count": 22,
   "id": "ce73818a",
   "metadata": {},
   "outputs": [
    {
     "name": "stdout",
     "output_type": "stream",
     "text": [
      "[[268.0 24.0 22.0 10.5 0.0]\n",
      " [1180.0 81.0 88.0 54.5 18.0]\n",
      " [592.0 81.0 30.0 19.0 3.0]\n",
      " [448.0 66.0 22.0 10.5 0.0]\n",
      " [830.0 92.0 17.0 42.0 10.0]\n",
      " [750.0 66.0 28.0 43.0 8.0]\n",
      " [608.0 66.0 66.0 10.5 0.0]\n",
      " [435.0 16.0 66.0 14.0 4.0]\n",
      " [729.17 87.16 19.177 35.217 12.751]\n",
      " [712.0 66.0 22.0 42.0 0.0]\n",
      " [555.0 94.0 12.0 13.0 5.0]\n",
      " [395.0 16.0 16.0 32.0 9.0]\n",
      " [902.0 73.0 66.0 42.0 7.0]\n",
      " [355.0 19.0 32.0 15.0 5.0]\n",
      " [285.0 35.7 39.4 11.6 5.3]\n",
      " [268.0 24.0 22.0 10.5 0.0]\n",
      " [1110.0 93.0 84.0 44.0 4.0]\n",
      " [242.0 42.0 6.8 5.2 0.0]\n",
      " [533.194 31.7 38.8194 26.3796 2.7]\n",
      " [448.0 66.0 22.0 10.5 0.0]\n",
      " [575.0 76.0 22.0 18.5 11.0]\n",
      " [490.0 1.9 30.0 9.0 0.0]\n",
      " [608.0 66.0 66.0 10.5 0.0]\n",
      " [585.0 40.0 76.0 17.0 13.0]\n",
      " [1164.0 134.2 29.6 66.2 8.0]\n",
      " [712.0 66.0 22.0 42.0 0.0]\n",
      " [445.0 43.0 20.0 20.0 13.0]\n",
      " [486.0 57.8 24.8 17.0 1.7]\n",
      " [268.0 24.0 22.0 10.5 0.0]\n",
      " [725.0 94.0 44.0 20.0 4.0]\n",
      " [548.5 43.4 30.2 27.6 1.8]\n",
      " [902.0 73.0 22.0 42.0 7.0]]\n"
     ]
    }
   ],
   "source": [
    "#load data\n",
    "dataset = pd.read_csv(\"C:\\\\Users\\\\namil\\\\Downloads\\\\inputdata.csv\").dropna().to_numpy()\n",
    "X = dataset[:,2:7]\n",
    "Y = dataset[:,9]\n",
    "print(X)"
   ]
  },
  {
   "cell_type": "code",
   "execution_count": 23,
   "id": "e0d5f425",
   "metadata": {},
   "outputs": [],
   "source": [
    "#split into train and test sets\n",
    "seed = 7\n",
    "test_size = 0.33\n",
    "X_train, X_test, y_train, y_test = train_test_split(X, Y, test_size=test_size, random_state=seed)"
   ]
  },
  {
   "cell_type": "code",
   "execution_count": 24,
   "id": "f5c2b160",
   "metadata": {},
   "outputs": [],
   "source": [
    "model = RandomForestRegressor(n_estimators = 300, max_features = 'sqrt', max_depth = 5, random_state = 18)\n",
    "model.fit(X_train, y_train)\n",
    "prediction = model.predict(X_test)"
   ]
  },
  {
   "cell_type": "code",
   "execution_count": 25,
   "id": "7bd96552",
   "metadata": {},
   "outputs": [
    {
     "name": "stdout",
     "output_type": "stream",
     "text": [
      "0.057162901635945215\n",
      "643.04900163923\n"
     ]
    }
   ],
   "source": [
    "mape = MAPE(y_test, prediction)\n",
    "print(mape)\n",
    "mse = MSE(y_test, prediction)\n",
    "rmse = mse**.5\n",
    "print(rmse)"
   ]
  },
  {
   "cell_type": "code",
   "execution_count": 26,
   "id": "33a63a32",
   "metadata": {},
   "outputs": [
    {
     "name": "stdout",
     "output_type": "stream",
     "text": [
      "0.05571988661640493\n",
      "634.8829242115531\n"
     ]
    }
   ],
   "source": [
    "#with activity\n",
    "X = dataset[:,2:8]\n",
    "Y = dataset[:,9]\n",
    "X_train, X_test, y_train, y_test = train_test_split(X, Y, test_size=test_size, random_state=seed)\n",
    "model.fit(X_train, y_train)\n",
    "prediction = model.predict(X_test)\n",
    "\n",
    "#errors\n",
    "mape = MAPE(y_test, prediction)\n",
    "print(mape)\n",
    "mse = MSE(y_test, prediction)\n",
    "rmse = mse**.5\n",
    "print(rmse)"
   ]
  },
  {
   "cell_type": "code",
   "execution_count": null,
   "id": "20fae9c9",
   "metadata": {},
   "outputs": [],
   "source": []
  }
 ],
 "metadata": {
  "kernelspec": {
   "display_name": "Python 3 (ipykernel)",
   "language": "python",
   "name": "python3"
  },
  "language_info": {
   "codemirror_mode": {
    "name": "ipython",
    "version": 3
   },
   "file_extension": ".py",
   "mimetype": "text/x-python",
   "name": "python",
   "nbconvert_exporter": "python",
   "pygments_lexer": "ipython3",
   "version": "3.10.9"
  }
 },
 "nbformat": 4,
 "nbformat_minor": 5
}
